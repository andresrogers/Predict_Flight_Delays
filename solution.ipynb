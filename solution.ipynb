{
 "cells": [
  {
   "cell_type": "markdown",
   "metadata": {},
   "source": [
    "# Notebook to Predict Delays in Flights for SCL Airport"
   ]
  },
  {
   "cell_type": "code",
   "execution_count": null,
   "metadata": {},
   "outputs": [],
   "source": [
    "import warnings\n",
    "from datetime import datetime  # , timedelta\n",
    "\n",
    "import pandas as pd\n",
    "import seaborn as sns\n",
    "\n",
    "warnings.filterwarnings(\"ignore\")\n",
    "\n",
    "\n",
    "# import numpy as np\n",
    "\n",
    "sns.set_theme(style=\"darkgrid\")\n",
    "# import sklearn"
   ]
  },
  {
   "cell_type": "markdown",
   "metadata": {},
   "source": [
    "## 0. Load dataset\n",
    "Create DataFrame, check data and format"
   ]
  },
  {
   "cell_type": "markdown",
   "metadata": {},
   "source": [
    "Column details for file `dataset_SCL.csv`:\n",
    "\n",
    "- **Fecha-I** : Date and time of the programmed flight.\n",
    "- **Vlo-I** : Programmed flight number.\n",
    "- **Ori-I** : City code of programmed origin.\n",
    "- **Des-I** : City code of programmed destination.\n",
    "- **Emp-I** : Airline code of programmed flight.\n",
    "- **Fecha-O** : Date and time of operated flight.\n",
    "- **Vlo-O** : Operated flight number.\n",
    "- **Ori-O** : City code of operated origin.\n",
    "- **Des-O** : City code of operated destination.\n",
    "- **Emp-O** : Airline code of operated flight.\n",
    "- **DIA** : Day number of operated flight.\n",
    "- **MES** : Month number of operated flight.\n",
    "- **AÑO** : Year of operated flight.\n",
    "- **DIANOM** : Day of the week of operated flight.\n",
    "- **TIPOVUELO** : Type of flight, I =International, N =National.\n",
    "- **OPERA** : Name of the operated airline.\n",
    "- **SIGLAORI** : Origin city name.\n",
    "- **SIGLADES** : Destination city name."
   ]
  },
  {
   "cell_type": "code",
   "execution_count": null,
   "metadata": {},
   "outputs": [],
   "source": [
    "# Load dataset as Panda's DataFrame\n",
    "\n",
    "dataset = pd.read_csv(\"input/dataset_SCL.csv\")\n",
    "dataset.head()"
   ]
  },
  {
   "cell_type": "code",
   "execution_count": null,
   "metadata": {},
   "outputs": [],
   "source": [
    "# Show data shape as: (rows, columns)\n",
    "\n",
    "dataset.shape"
   ]
  },
  {
   "cell_type": "code",
   "execution_count": null,
   "metadata": {},
   "outputs": [],
   "source": [
    "# search for missing values (NaN's)\n",
    "\n",
    "dataset.isna().sum()"
   ]
  },
  {
   "cell_type": "markdown",
   "metadata": {},
   "source": [
    "There's only 1 missing value from one column, corresponding to an empy value for the column `Vlo-I : Operated flight number`. \n",
    "\n",
    "To avoid removing the whole row of data, we will analyze the frequency in which `Vl-O` is equal to `Vlo-I`."
   ]
  },
  {
   "cell_type": "code",
   "execution_count": null,
   "metadata": {},
   "outputs": [],
   "source": [
    "# How often is 'Vlo-I' equal to 'Vlo-O' ?\n",
    "\n",
    "fraction = (dataset[\"Vlo-I\"] == dataset[\"Vlo-O\"]).sum() / len(dataset)\n",
    "\n",
    "print(f\"'Vlo-I' is equal to 'Vlo-O' {fraction:.1%} of the time\")"
   ]
  },
  {
   "cell_type": "markdown",
   "metadata": {},
   "source": [
    "There is a very high probability (over 97%) that 'Vlo-O' can be correctly estimated from 'Vlo-I', so we decide to fill this value instead of removing the row."
   ]
  },
  {
   "cell_type": "code",
   "execution_count": null,
   "metadata": {},
   "outputs": [],
   "source": [
    "# fill missinf values for 'Vlo-O' from column 'Vlo-I'\n",
    "dataset[\"Vlo-O\"].fillna(dataset[\"Vlo-I\"], inplace=True)\n",
    "# count NaN's\n",
    "dataset.isna().sum().sum()"
   ]
  },
  {
   "cell_type": "code",
   "execution_count": null,
   "metadata": {},
   "outputs": [],
   "source": [
    "# Check min-max values for Day, Month and Year\n",
    "\n",
    "dataset.describe()"
   ]
  },
  {
   "cell_type": "code",
   "execution_count": null,
   "metadata": {},
   "outputs": [],
   "source": [
    "# Show unique values for each column to better undestand the data\n",
    "\n",
    "print(\"Unique values for column 'Ori-I':\", set(dataset[\"Ori-I\"]), \"\\n\")\n",
    "print(\"Unique values for column 'Des-I':\", set(dataset[\"Des-I\"]), \"\\n\")\n",
    "print(\"Unique values for column 'Emp-I':\", set(dataset[\"Emp-I\"]), \"\\n\")\n",
    "print(\"Unique values for column 'Ori-O':\", set(dataset[\"Ori-O\"]), \"\\n\")\n",
    "print(\"Unique values for column 'Des-O':\", set(dataset[\"Des-O\"]), \"\\n\")\n",
    "print(\"Unique values for column 'Emp-O':\", set(dataset[\"Emp-O\"]), \"\\n\")\n",
    "print(\"Unique values for column 'DIANOM':\", set(dataset[\"DIANOM\"]), \"\\n\")\n",
    "print(\"Unique values for column 'TIPOVUELO':\", set(dataset[\"TIPOVUELO\"]), \"\\n\")\n",
    "print(\"Unique values for column 'OPERA':\", set(dataset[\"OPERA\"]), \"\\n\")\n",
    "print(\"Unique values for column 'SIGLAORI':\", set(dataset[\"SIGLAORI\"]), \"\\n\")\n",
    "print(\"Unique values for column 'SIGLADES':\", set(dataset[\"SIGLADES\"]), \"\\n\")"
   ]
  },
  {
   "cell_type": "code",
   "execution_count": null,
   "metadata": {},
   "outputs": [],
   "source": [
    "# transform dates from string into datetime object to calculate time difference\n",
    "dataset[\"Fecha-I\"] = dataset[\"Fecha-I\"].apply(\n",
    "    lambda x: datetime.strptime(x, \"%Y-%m-%d %H:%M:%S\")\n",
    ")\n",
    "dataset[\"Fecha-O\"] = dataset[\"Fecha-O\"].apply(\n",
    "    lambda x: datetime.strptime(x, \"%Y-%m-%d %H:%M:%S\")\n",
    ")"
   ]
  },
  {
   "cell_type": "code",
   "execution_count": null,
   "metadata": {},
   "outputs": [],
   "source": [
    "dataset.head()"
   ]
  },
  {
   "cell_type": "markdown",
   "metadata": {},
   "source": [
    "## 1. Analyze Distribution of Data"
   ]
  },
  {
   "cell_type": "code",
   "execution_count": null,
   "metadata": {},
   "outputs": [],
   "source": [
    "# Distribution of Flights vs Day of the Week\n",
    "\n",
    "g = sns.catplot(\n",
    "    x=\"DIANOM\",\n",
    "    data=dataset,\n",
    "    kind=\"count\",\n",
    "    order=[\"Lunes\", \"Martes\", \"Miercoles\", \"Jueves\", \"Viernes\", \"Sabado\", \"Domingo\"],\n",
    ")\n",
    "g.set_axis_labels(\"\\nDay of the Week\\n\", \"\\nTotal Flights\\n\", size=16)\n",
    "g.fig.suptitle(\"\\nNumber of Flights per Day of the Week\", size=20, y=1.15)\n",
    "g.figure.set_size_inches(15, 5)"
   ]
  },
  {
   "cell_type": "code",
   "execution_count": null,
   "metadata": {},
   "outputs": [],
   "source": [
    "# Distribution of Flights vs Month\n",
    "\n",
    "g = sns.catplot(x=\"MES\", data=dataset, kind=\"count\", order=range(1, 13))\n",
    "g.set_axis_labels(\"\\nMonth\\n\", \"\\nTotal Flights\\n\", size=16)\n",
    "g.fig.suptitle(\"\\nNumber of Flights per Month\", size=20, y=1.15)\n",
    "g.figure.set_size_inches(15, 5)"
   ]
  },
  {
   "cell_type": "code",
   "execution_count": null,
   "metadata": {},
   "outputs": [],
   "source": [
    "# Distribution of Flights vs Type of Flight\n",
    "\n",
    "g = sns.catplot(x=\"TIPOVUELO\", data=dataset, kind=\"count\")\n",
    "g.set_axis_labels(\n",
    "    \"\\nType of Flight (International or National)\\n\", \"\\nTotal Flights\\n\", size=16\n",
    ")\n",
    "g.fig.suptitle(\"\\nNumber of Flights per Type of Flight\", size=20, y=1.15)\n",
    "g.figure.set_size_inches(15, 5)"
   ]
  },
  {
   "cell_type": "code",
   "execution_count": null,
   "metadata": {},
   "outputs": [],
   "source": [
    "# calculate percent of National and International Flights\n",
    "\n",
    "national_pct = dataset[dataset[\"TIPOVUELO\"] == \"N\"][\"TIPOVUELO\"].count() / len(dataset)\n",
    "\n",
    "print(f\"{national_pct:.1%} of Flights are National\")\n",
    "print(f\"{1-national_pct:.1%} of Flights are International\")"
   ]
  },
  {
   "cell_type": "code",
   "execution_count": null,
   "metadata": {},
   "outputs": [],
   "source": [
    "# Distribution of Flights per Operating Airline\n",
    "\n",
    "g = sns.catplot(\n",
    "    x=\"OPERA\", data=dataset, kind=\"count\", order=dataset[\"OPERA\"].value_counts().index\n",
    ")\n",
    "g.set_axis_labels(\"\\nOperating Airline\\n\", \"\\nTotal Flights\\n\", size=16)\n",
    "g.fig.suptitle(\"\\nNumber of Flights per Operating Airline\", size=20, y=1.15)\n",
    "g.figure.set_size_inches(15, 5)\n",
    "# rotate xlabels\n",
    "g.set_xticklabels(rotation=90)\n",
    "for ax in g.axes.flat:\n",
    "    ax.yaxis.set_major_formatter(lambda x, p: f\"{x:.0f}\")"
   ]
  },
  {
   "cell_type": "code",
   "execution_count": null,
   "metadata": {},
   "outputs": [],
   "source": [
    "# calculate percent for Airline 'Grupo LATAM' and 'Sky Airline\n",
    "total_latam = dataset[dataset[\"OPERA\"] == \"Grupo LATAM\"][\"OPERA\"].count()\n",
    "total_sky = dataset[dataset[\"OPERA\"] == \"Sky Airline\"][\"OPERA\"].count()\n",
    "\n",
    "print(f\"'Grupo LATAM' operates {total_latam/len(dataset):.1%} of the flights.\")\n",
    "print(f\"'Sky Airline' operates {total_sky/len(dataset):.1%} of the flights.\")\n",
    "print(\n",
    "    f\"Together they account for {(total_sky+total_latam)/len(dataset):.1%} of flights.\"\n",
    ")"
   ]
  },
  {
   "cell_type": "code",
   "execution_count": null,
   "metadata": {},
   "outputs": [],
   "source": [
    "# Distribution of Flights per City of Destination\n",
    "\n",
    "g = sns.catplot(\n",
    "    x=\"SIGLADES\",\n",
    "    data=dataset,\n",
    "    kind=\"count\",\n",
    "    order=dataset[\"SIGLADES\"].value_counts().index,\n",
    ")\n",
    "g.set_axis_labels(\"\\nCity of Destination\\n\", \"\\nTotal Flights\\n\", size=16)\n",
    "g.fig.suptitle(\"\\nNumber of Flights per City of Destination\", size=20, y=1.15)\n",
    "g.figure.set_size_inches(15, 5)\n",
    "# rotate xlabels\n",
    "g.set_xticklabels(rotation=90)\n",
    "for ax in g.axes.flat:\n",
    "    ax.yaxis.set_major_formatter(lambda x, p: f\"{x:.0f}\")"
   ]
  },
  {
   "cell_type": "markdown",
   "metadata": {},
   "source": [
    "### Main Conclusions and Interpretation:\n",
    "\n",
    "1. On average, Saturday (**Sabado**) is the day with the least flights of the whole week. The rest days are similar but slightly higher for Monday (**Lunes**), Thursday (**Jueves**) and Friday (**Viernes**).\n",
    "2. There is a difference in number of flights per month of the year, there are months with low demand (April/4, May/5 and June/6) and high demand (July/7, October/10, November/11, December/12 and January/1).\n",
    "3. Slightly more than half (54.2%) of the flights are of '**National**' Type, while the rest (45.8%) are '**International**'.\n",
    "4. Most flights are operated by '**Grupo LATAM**' (60%), followed by '**Sky Airline**' (21%). Together they account for 80.9% of total flights.\n",
    "5. As seen previously (*not plotted*), the only City of Origin is '**Santiago**' de Chile.\n",
    "6. The 5 most frequent destinations overall are (in descending order): '*Buenos Aires*', '*Antofagasta*', '*Lima*', '*Calama*' and '*Puerto Montt*'.\t\n",
    "7. The 5 most frequent **International** destinations are (in descending order): '*Buenos Aires*', '*Lima*', '*Sao Paulo*', '*Ciudad de Panama*' and '*Mendoza*'.\n",
    "8. The 5 most frequent **National** destinations are (in descending order): '*Antofagasta*', '*Calama*', '*Puerto Montt*', '*Concepción*' e '*Iquique*'."
   ]
  },
  {
   "cell_type": "markdown",
   "metadata": {},
   "source": []
  }
 ],
 "metadata": {
  "interpreter": {
   "hash": "6055fe7821f3d16f1658f9c73811435b69e21008c3fe00e08f70f128e2c41590"
  },
  "kernelspec": {
   "display_name": "Python 3.10.4 ('Predict_Flight_Delays--sOdaDLH')",
   "language": "python",
   "name": "python3"
  },
  "language_info": {
   "codemirror_mode": {
    "name": "ipython",
    "version": 3
   },
   "file_extension": ".py",
   "mimetype": "text/x-python",
   "name": "python",
   "nbconvert_exporter": "python",
   "pygments_lexer": "ipython3",
   "version": "3.10.4"
  }
 },
 "nbformat": 4,
 "nbformat_minor": 2
}
