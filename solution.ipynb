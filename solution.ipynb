{
 "cells": [
  {
   "cell_type": "markdown",
   "metadata": {},
   "source": [
    "# Notebook to Predict Delays in Flights for SCL Airport"
   ]
  },
  {
   "cell_type": "code",
   "execution_count": null,
   "metadata": {},
   "outputs": [],
   "source": [
    "\"\"\"\n",
    "Load necessary packages\n",
    "\"\"\"\n",
    "\n",
    "import warnings\n",
    "from datetime import datetime  # , timedelta\n",
    "\n",
    "import pandas as pd\n",
    "\n",
    "# import numpy as np\n",
    "# import seaborn as sns\n",
    "# import sklearn\n",
    "\n",
    "\n",
    "warnings.filterwarnings(\"ignore\")"
   ]
  },
  {
   "cell_type": "markdown",
   "metadata": {},
   "source": [
    "## 0. Load dataset\n",
    "Create DataFrame, check data and format"
   ]
  },
  {
   "cell_type": "markdown",
   "metadata": {},
   "source": [
    "Column details for file `dataset_SCL.csv`:\n",
    "\n",
    "- **Fecha-I** : Date and time of the programmed flight.\n",
    "- **Vlo-I** : Programmed flight number.\n",
    "- **Ori-I** : City code of programmed origin.\n",
    "- **Des-I** : City code of programmed destination.\n",
    "- **Emp-I** : Airline code of programmed flight.\n",
    "- **Fecha-O** : Date and time of operated flight.\n",
    "- **Vlo-O** : Operated flight number.\n",
    "- **Ori-O** : City code of operated origin.\n",
    "- **Des-O** : City code of operated destination.\n",
    "- **Emp-O** : Airline code of operated flight.\n",
    "- **DIA** : Day number of operated flight.\n",
    "- **MES** : Month number of operated flight.\n",
    "- **AÑO** : Year of operated flight.\n",
    "- **DIANOM** : Day of the week of operated flight.\n",
    "- **TIPOVUELO** : Type of flight, I =International, N =National.\n",
    "- **OPERA** : Name of the operated airline.\n",
    "- **SIGLAORI** : Origin city name.\n",
    "- **SIGLADES** : Destination city name."
   ]
  },
  {
   "cell_type": "code",
   "execution_count": null,
   "metadata": {},
   "outputs": [],
   "source": [
    "# Load dataset as Panda's DataFrame\n",
    "\n",
    "dataset = pd.read_csv(\"input/dataset_SCL.csv\")\n",
    "dataset.head()"
   ]
  },
  {
   "cell_type": "code",
   "execution_count": null,
   "metadata": {},
   "outputs": [],
   "source": [
    "# Show data shape as: (rows, columns)\n",
    "\n",
    "dataset.shape"
   ]
  },
  {
   "cell_type": "code",
   "execution_count": null,
   "metadata": {},
   "outputs": [],
   "source": [
    "# search for missing values (NaN's)\n",
    "\n",
    "dataset.isna().sum()"
   ]
  },
  {
   "cell_type": "markdown",
   "metadata": {},
   "source": [
    "There's only 1 missing value from one column, corresponding to an empy value for the column `Vlo-I : Operated flight number`. \n",
    "\n",
    "To avoid removing the whole row of data, we will analyze the frequency in which `Vl-O` is equal to `Vlo-I`."
   ]
  },
  {
   "cell_type": "code",
   "execution_count": null,
   "metadata": {},
   "outputs": [],
   "source": [
    "# How often is 'Vlo-I' equal to 'Vlo-O' ?\n",
    "\n",
    "fraction = (dataset[\"Vlo-I\"] == dataset[\"Vlo-O\"]).sum() / len(dataset)\n",
    "\n",
    "print(f\"'Vlo-I' is equal to 'Vlo-O' {fraction:.1%} of the time\")"
   ]
  },
  {
   "cell_type": "markdown",
   "metadata": {},
   "source": [
    "There is a very high probability (over 97%) that 'Vlo-O' can be correctly estimated from 'Vlo-I', so we decide to fill this value instead of removing the row."
   ]
  },
  {
   "cell_type": "code",
   "execution_count": null,
   "metadata": {},
   "outputs": [],
   "source": [
    "# fill missinf values for 'Vlo-O' from column 'Vlo-I'\n",
    "dataset[\"Vlo-O\"].fillna(dataset[\"Vlo-I\"], inplace=True)\n",
    "# count NaN's\n",
    "dataset.isna().sum().sum()"
   ]
  },
  {
   "cell_type": "code",
   "execution_count": null,
   "metadata": {},
   "outputs": [],
   "source": [
    "# Check min-max values for Day, Month and Year\n",
    "\n",
    "dataset.describe()"
   ]
  },
  {
   "cell_type": "code",
   "execution_count": null,
   "metadata": {},
   "outputs": [],
   "source": [
    "# Show unique values for each column to better undestand the data\n",
    "\n",
    "print(\"Unique values for column 'Ori-I':\", set(dataset[\"Ori-I\"]), \"\\n\")\n",
    "print(\"Unique values for column 'Des-I':\", set(dataset[\"Des-I\"]), \"\\n\")\n",
    "print(\"Unique values for column 'Emp-I':\", set(dataset[\"Emp-I\"]), \"\\n\")\n",
    "print(\"Unique values for column 'Ori-O':\", set(dataset[\"Ori-O\"]), \"\\n\")\n",
    "print(\"Unique values for column 'Des-O':\", set(dataset[\"Des-O\"]), \"\\n\")\n",
    "print(\"Unique values for column 'Emp-O':\", set(dataset[\"Emp-O\"]), \"\\n\")\n",
    "print(\"Unique values for column 'DIANOM':\", set(dataset[\"DIANOM\"]), \"\\n\")\n",
    "print(\"Unique values for column 'TIPOVUELO':\", set(dataset[\"TIPOVUELO\"]), \"\\n\")\n",
    "print(\"Unique values for column 'OPERA':\", set(dataset[\"OPERA\"]), \"\\n\")\n",
    "print(\"Unique values for column 'SIGLAORI':\", set(dataset[\"SIGLAORI\"]), \"\\n\")\n",
    "print(\"Unique values for column 'SIGLADES':\", set(dataset[\"SIGLADES\"]), \"\\n\")"
   ]
  },
  {
   "cell_type": "code",
   "execution_count": null,
   "metadata": {},
   "outputs": [],
   "source": [
    "# transform dates from string into datetime object to calculate time difference\n",
    "dataset[\"Fecha-I\"] = dataset[\"Fecha-I\"].apply(\n",
    "    lambda x: datetime.strptime(x, \"%Y-%m-%d %H:%M:%S\")\n",
    ")\n",
    "dataset[\"Fecha-O\"] = dataset[\"Fecha-O\"].apply(\n",
    "    lambda x: datetime.strptime(x, \"%Y-%m-%d %H:%M:%S\")\n",
    ")"
   ]
  },
  {
   "cell_type": "code",
   "execution_count": null,
   "metadata": {},
   "outputs": [],
   "source": [
    "dataset.head()"
   ]
  }
 ],
 "metadata": {
  "interpreter": {
   "hash": "6055fe7821f3d16f1658f9c73811435b69e21008c3fe00e08f70f128e2c41590"
  },
  "kernelspec": {
   "display_name": "Python 3.10.4 ('Predict_Flight_Delays--sOdaDLH')",
   "language": "python",
   "name": "python3"
  },
  "language_info": {
   "codemirror_mode": {
    "name": "ipython",
    "version": 3
   },
   "file_extension": ".py",
   "mimetype": "text/x-python",
   "name": "python",
   "nbconvert_exporter": "python",
   "pygments_lexer": "ipython3",
   "version": "3.10.4"
  }
 },
 "nbformat": 4,
 "nbformat_minor": 2
}
